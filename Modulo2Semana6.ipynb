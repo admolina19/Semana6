{
 "cells": [
  {
   "cell_type": "markdown",
   "metadata": {},
   "source": [
    "# Tareas calificadas"
   ]
  },
  {
   "cell_type": "markdown",
   "metadata": {},
   "source": [
    "La ciencia de datos es un campo interdisciplinario que utiliza métodos científicos, procesos, algoritmos y sistemas para extraer conocimiento y comprensión a partir de datos en sus diversas formas. Este campo combina conocimientos de estadísticas, matemáticas, programación, y conocimiento del dominio específico para analizar y entender fenómenos, tomar decisiones informadas y resolver problemas complejos.\n",
    "\n",
    "En esencia, la ciencia de datos implica la recopilación, limpieza, exploración y análisis de datos para descubrir patrones, tendencias, y relaciones significativas. Utiliza diversas herramientas y técnicas, como el aprendizaje automático, la minería de datos, y la visualización de datos, para transformar datos brutos en información valiosa.\n",
    "\n",
    "Los profesionales de la ciencia de datos, conocidos como científicos de datos, desempeñan un papel crucial en la era digital actual, ya que ayudan a las organizaciones a tomar decisiones basadas en datos, a prever tendencias futuras y a aprovechar el valor de la información contenida en grandes conjuntos de datos. La ciencia de datos se aplica en una amplia gama de industrias, incluyendo negocios, salud, finanzas, investigación académica, tecnología y más. En resumen, se trata de transformar datos en conocimiento significativo para impulsar la toma de decisiones efectiva."
   ]
  },
  {
   "cell_type": "markdown",
   "metadata": {},
   "source": [
    "1. Python: Es uno de los lenguajes más populares en ciencia de datos. Tiene una amplia variedad de bibliotecas y marcos de trabajo como NumPy, Pandas, Matplotlib, Seaborn, Scikit-learn y TensorFlow, que facilitan la manipulación de datos, el análisis estadístico y la implementación de algoritmos de aprendizaje automático.\n",
    "\n",
    "2. R: Es un lenguaje estadístico que se utiliza ampliamente en la ciencia de datos y la estadística. R ofrece una gran cantidad de paquetes específicos para el análisis de datos y la visualización, como ggplot2, dplyr y caret.\n",
    "\n",
    "3. SQL (Structured Query Language): Aunque no es un lenguaje de programación en el sentido tradicional, SQL es esencial para trabajar con bases de datos. Los científicos de datos a menudo utilizan consultas SQL para extraer, manipular y analizar datos almacenados en bases de datos relacionales.\n",
    "\n",
    "4. Julia: Es un lenguaje de programación de alto rendimiento diseñado específicamente para la computación científica y la manipulación de datos. Es conocido por su velocidad de ejecución y su sintaxis amigable para los científicos de datos.\n",
    "\n",
    "5. Scala: Es un lenguaje de programación que se ejecuta en la máquina virtual Java (JVM). Se utiliza comúnmente con Apache Spark, un marco de procesamiento de datos en tiempo real y por lotes."
   ]
  },
  {
   "cell_type": "markdown",
   "metadata": {},
   "source": [
    "1. NumPy: Biblioteca fundamental para computación científica que proporciona soporte para arreglos y matrices, así como funciones matemáticas para operaciones numéricas eficientes.\n",
    "\n",
    "2. Pandas: Ofrece estructuras de datos flexibles y herramientas de análisis de datos para manipulación y limpieza de datos. Es especialmente útil para trabajar con datos tabulares.\n",
    "\n",
    "3. Matplotlib: Biblioteca de visualización que permite crear gráficos estáticos, gráficos de líneas, dispersión, barras, histogramas, etc.\n",
    "\n",
    "4. Seaborn: Construido sobre Matplotlib, Seaborn proporciona una interfaz de alto nivel para gráficos estadísticos atractivos y informativos.\n",
    "\n",
    "5. Scikit-learn: Biblioteca de aprendizaje automático que proporciona herramientas simples y eficientes para análisis predictivo de datos. Incluye algoritmos para clasificación, regresión, clustering, y más.\n",
    "\n",
    "6. TensorFlow y PyTorch: Son bibliotecas líderes en aprendizaje profundo. Permiten construir y entrenar modelos de redes neuronales para tareas de aprendizaje automático."
   ]
  },
  {
   "cell_type": "code",
   "execution_count": 2,
   "metadata": {},
   "outputs": [
    {
     "name": "stdout",
     "output_type": "stream",
     "text": [
      "4\n"
     ]
    }
   ],
   "source": [
    "a = 2\n",
    "b = 2\n",
    "\n",
    "c = a*b\n",
    "\n",
    "print(c)"
   ]
  },
  {
   "cell_type": "markdown",
   "metadata": {},
   "source": [
    "1. Suma:\n",
    "   - \\(2 + 3\\)\n",
    "   - \\(8 + 5 + 2\\)\n",
    "\n",
    "2. Resta:\n",
    "   - \\(10 - 4\\)\n",
    "   - \\(7 - 2 - 1\\)\n",
    "\n",
    "3. Multiplicación:\n",
    "   - \\(3 \\times 5\\)\n",
    "   - \\(2 \\times (4 + 1)\\)\n",
    "\n",
    "4. División:\n",
    "   - \\(12 \\div 4\\)\n",
    "   - \\(15 \\div (3 + 2)\\)\n",
    "\n",
    "5. Potenciación:\n",
    "   - \\(2^3\\) (2 elevado a la 3)\n",
    "   - \\(4^2\\) (4 elevado a la 2)\n",
    "\n",
    "6. Raíz cuadrada:\n",
    "   - \\(\\sqrt{16}\\) (raíz cuadrada de 16)\n",
    "\n",
    "7. Combinaciones de operaciones:\n",
    "   - \\(3 + 4 \\times 2\\)\n",
    "   - \\((8 - 2) \\div 3\\)\n",
    "\n",
    "8. Uso de paréntesis:\n",
    "   - \\((5 + 2) \\times 3\\)\n",
    "   - \\(4 \\div (2 + 1)\\)"
   ]
  },
  {
   "cell_type": "code",
   "execution_count": 4,
   "metadata": {},
   "outputs": [
    {
     "name": "stdout",
     "output_type": "stream",
     "text": [
      "Suma 4 Mutiplicacion 4\n"
     ]
    }
   ],
   "source": [
    "a = 2\n",
    "b = 2\n",
    "\n",
    "s = a*b\n",
    "m = a*b\n",
    "\n",
    "print(\"Suma\", s , \"Mutiplicacion\", m)"
   ]
  },
  {
   "cell_type": "code",
   "execution_count": 5,
   "metadata": {},
   "outputs": [
    {
     "name": "stdout",
     "output_type": "stream",
     "text": [
      "120 minutos equivalen a 2.0 horas\n"
     ]
    }
   ],
   "source": [
    "def convertir_a_horas(minutos):\n",
    "    horas = minutos / 60\n",
    "    return horas\n",
    "\n",
    "minutos = 120\n",
    "horas_convertidas = convertir_a_horas(minutos)\n",
    "print(f\"{minutos} minutos equivalen a {horas_convertidas} horas\")"
   ]
  },
  {
   "cell_type": "markdown",
   "metadata": {},
   "source": [
    "La ciencia de datos es un campo multidisciplinario que abarca diversas áreas. A continuación, se enumeran algunas ramas clave de la ciencia de datos:\n",
    "\n",
    "1. **Estadísticas:**\n",
    "   - La estadística es fundamental para la ciencia de datos, ya que proporciona métodos para recopilar, analizar e interpretar datos.\n",
    "\n",
    "2. **Aprendizaje automático (Machine Learning):**\n",
    "   - Esta rama se centra en el desarrollo de algoritmos y modelos que permiten a las computadoras aprender patrones y realizar tareas sin ser programadas explícitamente.\n",
    "\n",
    "3. **Minería de datos (Data Mining):**\n",
    "   - Implica la exploración y extracción de patrones útiles o conocimientos a partir de conjuntos de datos grandes y complejos.\n",
    "\n",
    "4. **Análisis predictivo:**\n",
    "   - Utiliza modelos y técnicas estadísticas para predecir futuros eventos o tendencias en función de datos históricos.\n",
    "\n",
    "5. **Análisis exploratorio de datos (EDA):**\n",
    "   - Se refiere al proceso de análisis inicial de un conjunto de datos para descubrir patrones, identificar anomalías y comprender la estructura de los datos.\n",
    "\n",
    "6. **Visualización de datos:**\n",
    "   - Involucra la representación gráfica de datos para facilitar la comprensión y la toma de decisiones.\n",
    "\n",
    "7. **Ingeniería de características (Feature Engineering):**\n",
    "   - Se centra en la selección y transformación de variables o características para mejorar el rendimiento de los modelos de machine learning.\n",
    "\n",
    "8. **Big Data:**\n",
    "   - Trata con el procesamiento y análisis de conjuntos de datos extremadamente grandes que no pueden ser manejados eficientemente por métodos de procesamiento de datos convencionales.\n",
    "\n",
    "9. **Procesamiento de lenguaje natural (NLP):**\n",
    "   - Se ocupa de la interacción entre las computadoras y el lenguaje humano, permitiendo a las máquinas comprender, interpretar y generar texto.\n",
    "\n",
    "10. **Optimización:**\n",
    "    - Aplica técnicas matemáticas para encontrar la mejor solución en problemas de toma de decisiones y diseño de sistemas.\n",
    "\n",
    "11. **Ciencia de datos ética:**\n",
    "    - Examina cuestiones éticas relacionadas con la recopilación, el análisis y el uso de datos, asegurando que se realice de manera responsable y respetando la privacidad.\n",
    "\n",
    "Estas son solo algunas de las ramas de la ciencia de datos, y el campo sigue evolucionando con el tiempo, incorporando nuevas técnicas y enfoques a medida que avanza la investigación."
   ]
  }
 ],
 "metadata": {
  "kernelspec": {
   "display_name": "Python 3",
   "language": "python",
   "name": "python3"
  },
  "language_info": {
   "codemirror_mode": {
    "name": "ipython",
    "version": 3
   },
   "file_extension": ".py",
   "mimetype": "text/x-python",
   "name": "python",
   "nbconvert_exporter": "python",
   "pygments_lexer": "ipython3",
   "version": "3.12.1"
  }
 },
 "nbformat": 4,
 "nbformat_minor": 2
}
